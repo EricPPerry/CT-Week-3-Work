{
 "cells": [
  {
   "cell_type": "markdown",
   "metadata": {},
   "source": [
    "# Algorithms, Binary Search & Linked Lists"
   ]
  },
  {
   "cell_type": "markdown",
   "metadata": {},
   "source": [
    "## Tasks Today:\n",
    " \n",
    "1) <b>In-Place Algorithms</b> <br>\n",
    " &nbsp;&nbsp;&nbsp;&nbsp; a) Syntax <br>\n",
    " &nbsp;&nbsp;&nbsp;&nbsp; a) Out of Place Algorithm <br>\n",
    " &nbsp;&nbsp;&nbsp;&nbsp; b) In-Class Exercise #1 <br>\n",
    "2) <b>Two Pointers</b> <br>\n",
    "3) <b>Linked Lists</b> <br>\n",
    "4) <b>Merge Sort</b> <br>\n",
    " &nbsp;&nbsp;&nbsp;&nbsp; a) Video on Algorithms <br>\n",
    " &nbsp;&nbsp;&nbsp;&nbsp; b) How it Works <br>\n",
    "5) <b>Exercises</b> <br>\n",
    " &nbsp;&nbsp;&nbsp;&nbsp; a) Exercise #1 - Reverse a List in Place Using an In-Place Algorithm <br>\n",
    " &nbsp;&nbsp;&nbsp;&nbsp; b) Exercise #2 - Find Distinct Words <br>\n",
    " &nbsp;&nbsp;&nbsp;&nbsp; c) Exercise #3 - Write a program to implement a Linear Search Algorithm. <br>"
   ]
  },
  {
   "cell_type": "markdown",
   "metadata": {},
   "source": [
    "## In-Place Algorithms"
   ]
  },
  {
   "cell_type": "markdown",
   "metadata": {},
   "source": [
    "#### Syntax"
   ]
  },
  {
   "cell_type": "code",
   "execution_count": 47,
   "metadata": {},
   "outputs": [
    {
     "name": "stdout",
     "output_type": "stream",
     "text": [
      "['Sam', 'Terrell', 'Eric', 'Erin']\n",
      "['Erin', 'Terrell', 'Eric', 'Sam']\n",
      "['Erin', 'Terrell', 'Eric', 'Sam']\n"
     ]
    }
   ],
   "source": [
    "#Swapper\n",
    "#Swap values at two indicies in our list\n",
    "\n",
    "def swap(alist, x,y):\n",
    "    #valx = alist[x]\n",
    "    #valy = alist[y]\n",
    "    #alist[x] = valy\n",
    "    #alist[y] = valx\n",
    "    #can definte multiple variables at the same time\n",
    "    alist[x],alist[y] = alist[y],alist[x]\n",
    "    return alist\n",
    "\n",
    "my_list = ['Sam', 'Terrell', 'Eric', 'Erin']\n",
    "print(my_list)\n",
    "print(swap(my_list, 0,3))\n",
    "print(my_list)"
   ]
  },
  {
   "cell_type": "markdown",
   "metadata": {},
   "source": [
    "#### Out of Place Algorithm"
   ]
  },
  {
   "cell_type": "code",
   "execution_count": 5,
   "metadata": {},
   "outputs": [
    {
     "name": "stdout",
     "output_type": "stream",
     "text": [
      "['Erin', 'Terrell', 'Eric', 'Sam']\n",
      "['Sam', 'Eric', 'Terrell', 'Erin']\n",
      "['d', 'c', 'b', 'a']\n"
     ]
    }
   ],
   "source": [
    "#reverse our list completely\n",
    "#main idea of an out of place algorithm is that we maintain data integrity and don't modify our original data structure\n",
    "my_list_copy = my_list[::-1]\n",
    "\n",
    "print(my_list) #my_list is not changed, integrity is maintained\n",
    "print(my_list_copy)\n",
    "\n",
    "array1 = ['a', 'b','c','d']\n",
    "#input - some array\n",
    "#output - a NEW array that is the input in reverse\n",
    "def reverse(array):\n",
    "    ans = []\n",
    "    for i in range(1,len(array)+1):\n",
    "        ans.append(array[-i])\n",
    "    return ans\n",
    "\n",
    "newarr = reverse(array1)\n",
    "print(newarr)"
   ]
  },
  {
   "cell_type": "markdown",
   "metadata": {},
   "source": [
    "#### In-Class Exercise #1 <br>\n",
    "<p>Write a function that takes in four arguments (list, index1, index2, index3), and swaps those three positions in the list passed in.</p>"
   ]
  },
  {
   "cell_type": "code",
   "execution_count": 12,
   "metadata": {},
   "outputs": [
    {
     "name": "stdout",
     "output_type": "stream",
     "text": [
      "[10, 2, 3, 4, 4, 8, 6]\n",
      "[10, 8, 3, 2, 4, 4, 6]\n",
      "[10, 4, 3, 8, 4, 2, 6]\n"
     ]
    }
   ],
   "source": [
    "l_1 = [10, 4, 3, 8, 4, 2, 6]\n",
    "\n",
    "def swap_ex(a_list, i1, i2, i3):\n",
    "    a_list[i1], a_list[i2], a_list[i3] = a_list[i3], a_list[i1], a_list[i2] \n",
    "    return a_list\n",
    "print(swap_ex(l_1, 1,3,5))\n",
    "print(swap_ex(l_1, 1,3,5))\n",
    "print(swap_ex(l_1, 1,3,5))"
   ]
  },
  {
   "cell_type": "markdown",
   "metadata": {},
   "source": [
    "## Two Pointers"
   ]
  },
  {
   "cell_type": "markdown",
   "metadata": {},
   "source": [
    "#### Syntax"
   ]
  },
  {
   "cell_type": "code",
   "execution_count": null,
   "metadata": {},
   "outputs": [],
   "source": [
    "#3 additional variables commonly used to keep track of something while looping\n",
    "#Flag - usually boolean, that controls a loop (usually a WHILE loop) based off a certain condition\n",
    "flag = True\n",
    "while flag:\n",
    "    if a_condition:\n",
    "        flag = False\n",
    "#Counter\n",
    "i = 0\n",
    "while i < 10:\n",
    "    i += 1\n",
    "#Pointer\n",
    "n = 0\n",
    "while n < len(l_1):\n",
    "    print(l_1[n])\n",
    "    n += 1"
   ]
  },
  {
   "cell_type": "code",
   "execution_count": 22,
   "metadata": {},
   "outputs": [
    {
     "name": "stdout",
     "output_type": "stream",
     "text": [
      "[3, 7]\n"
     ]
    }
   ],
   "source": [
    "#1 Pointer\n",
    "l_2 = [10,4,3,8,4,2,6]\n",
    "def ipremove(alist):\n",
    "    i=0\n",
    "    while i < len(alist):\n",
    "        if alist[i]%2 == 0:\n",
    "            alist.remove(alist[i])\n",
    "        else:\n",
    "            i += 1\n",
    "    return alist\n",
    "print(ipremove(l_2))"
   ]
  },
  {
   "cell_type": "code",
   "execution_count": 24,
   "metadata": {},
   "outputs": [
    {
     "data": {
      "text/plain": [
       "[8, 7, 6, 5, 4, 3, 2, 1]"
      ]
     },
     "execution_count": 24,
     "metadata": {},
     "output_type": "execute_result"
    }
   ],
   "source": [
    "#TWO Pointers\n",
    "#alist[left], alist[right] = alist[right], alist[left]\n",
    "#reverse the list in place -> use pointers\n",
    "def twoPointers(alist):\n",
    "    left = 0 #first index\n",
    "    right = len(alist)-1 #last index in list\n",
    "    while left < right:\n",
    "        alist[left], alist[right] = alist[right], alist[left]\n",
    "        left += 1\n",
    "        right -= 1\n",
    "    return alist\n",
    "\n",
    "my_list2 = [1,2,3,4,5,6,7,8]\n",
    "twoPointers(my_list2)"
   ]
  },
  {
   "cell_type": "code",
   "execution_count": 27,
   "metadata": {},
   "outputs": [
    {
     "name": "stdout",
     "output_type": "stream",
     "text": [
      "[0, 3, 5, 6, 7, 7, 8]\n"
     ]
    }
   ],
   "source": [
    "list1 = [3,5,7,8]\n",
    "list2 = [0,6,7,9]\n",
    "\n",
    "#goal is to merge the two lists in sorted order\n",
    "newlist = sorted(list1+list2) #O(nlogn), this has bad time complexity\n",
    "\n",
    "def pointy(lista, listb):\n",
    "    x = 0\n",
    "    y = 0\n",
    "    ans = []\n",
    "    while x< len(lista) and y < len(listb):\n",
    "        if lista[x] < listb[y]:\n",
    "            ans.append(lista[x])\n",
    "            x += 1\n",
    "        else:\n",
    "            ans.append(listb[y])\n",
    "            y += 1\n",
    "    return ans\n",
    "\n",
    "print(pointy(list1, list2))"
   ]
  },
  {
   "cell_type": "code",
   "execution_count": 28,
   "metadata": {},
   "outputs": [],
   "source": [
    "#How do I tell what time complexity? \n",
    "#We don't care about anything other than exponential differences in our time complexity\n",
    "#Most Common Time Complexities:\n",
    "#O(1) - constant time\n",
    "#O(log(n)) -logiritmic time\n",
    "#O(n) linear time\n",
    "#O(nlogn) linear log time\n",
    "#O(n^2) quadratic time\n",
    "#Anything above quadratic time is REALLY slow\n",
    "#O(n!) n-factorial\n",
    "\n",
    "#What takes what time?\n",
    "#Any loop through an iterable takes linear time O(n)\n",
    "##Some operations such as removing from a list are linear O(n)\n",
    "##Checking for membership (if i in alist) in lists takes O(n)\n",
    "#Checking for membership (if i in collection) in sets and dictionaries O(1)\n",
    "\n",
    "#What about bad time complexity? Where does that come from\n",
    "#Nesting \n",
    "#having a O(n) or worse operation that occurs every time another O(n) or worse operation runs\n",
    "#nested for loops (loop in a loop)\n",
    "#Removing inside a for loop\n",
    "\n",
    "#Determine whether or not the amount of steps an operation takes scales with number of inputs\n",
    "#Determine whether or not a scaling operations occurs in full every time another operation steps\n",
    "\n",
    "#What about multiple loops that aren't nested?\n",
    "#Simplification\n",
    "alist = list(range(1,11)) #O(n)\n",
    "for x in alist: #O(n)\n",
    "    print(x)\n",
    "for x in alist: #O(n)\n",
    "    print(x)\n",
    "\n",
    "#O(3*n) = O(n+n+n) = O(n) because infinity * 3 = infinity "
   ]
  },
  {
   "cell_type": "markdown",
   "metadata": {},
   "source": [
    "#### Video of Algorithms <br>\n",
    "<p>Watch the video about algorithms.</p>\n",
    "\n",
    "https://www.youtube.com/watch?v=Q9HjeFD62Uk\n",
    "\n",
    "https://www.youtube.com/watch?v=kPRA0W1kECg\n",
    "\n",
    "https://www.youtube.com/watch?v=ZZuD6iUe3Pc"
   ]
  },
  {
   "cell_type": "markdown",
   "metadata": {},
   "source": [
    "# Sorting Algorithms"
   ]
  },
  {
   "cell_type": "markdown",
   "metadata": {},
   "source": [
    "#### Bubble Sort\n",
    "\n",
    "Worst Case: O(n^2) Time - O(1) Space"
   ]
  },
  {
   "cell_type": "code",
   "execution_count": 34,
   "metadata": {},
   "outputs": [
    {
     "data": {
      "text/plain": [
       "[1, 3, 6, 9, 23, 56]"
      ]
     },
     "execution_count": 34,
     "metadata": {},
     "output_type": "execute_result"
    }
   ],
   "source": [
    "#Best Case: O(n) linear, if everything was already in order\n",
    "\n",
    "def swap(x, y, array):\n",
    "    array[x],array[y] = array[y],array[x]\n",
    "    return array\n",
    "\n",
    "def bubbleSort(array):\n",
    "    isSorted = False\n",
    "    while not isSorted:\n",
    "        isSorted = True\n",
    "        for i in range(len(array)-1):\n",
    "            if array[i] > array[i+1]:\n",
    "                swap(i, i+1, array)\n",
    "                isSorted = False\n",
    "    return array\n",
    "\n",
    "bubbleSort([23,1,56,3,6,9])"
   ]
  },
  {
   "cell_type": "markdown",
   "metadata": {},
   "source": [
    "##### Insertion Sort\n",
    "\n",
    "Worst Case: O(n^2) time - O(1)space"
   ]
  },
  {
   "cell_type": "code",
   "execution_count": 35,
   "metadata": {},
   "outputs": [
    {
     "data": {
      "text/plain": [
       "[1, 3, 6, 9, 23, 56]"
      ]
     },
     "execution_count": 35,
     "metadata": {},
     "output_type": "execute_result"
    }
   ],
   "source": [
    "def swap(x, y, array):\n",
    "    array[x],array[y] = array[y],array[x]\n",
    "    return array\n",
    "\n",
    "def insertionSort(array):\n",
    "    for i in range(1, len(array)): #range starts at 1, as there is nothing to the left of [0] to compare\n",
    "        j = i #j - allows us to move through list, while preserving i (index of what to check next)\n",
    "        while j > 0 and array[j] < array[j-1]: #number gets pulled out, then moved left/down in index (by swap inside of loop) until it hits something it is NOT less than\n",
    "            swap(j, j-1, array)\n",
    "            j -= 1\n",
    "    return array\n",
    "\n",
    "insertionSort([23,1,56,3,6,9])"
   ]
  },
  {
   "cell_type": "markdown",
   "metadata": {},
   "source": [
    "## Merge Sort"
   ]
  },
  {
   "cell_type": "markdown",
   "metadata": {},
   "source": [
    "#### How it Works"
   ]
  },
  {
   "cell_type": "code",
   "execution_count": 37,
   "metadata": {},
   "outputs": [
    {
     "name": "stdout",
     "output_type": "stream",
     "text": [
      "Splitting... [6, 9, 2, 3, 6, 7]\n",
      "Splitting... [6, 9, 2]\n",
      "Splitting... [6]\n",
      "Merging:  [6]\n",
      "Splitting... [9, 2]\n",
      "Splitting... [9]\n",
      "Merging:  [9]\n",
      "Splitting... [2]\n",
      "Merging:  [2]\n",
      "Merging:  [2, 9]\n",
      "Merging:  [2, 6, 9]\n",
      "Splitting... [3, 6, 7]\n",
      "Splitting... [3]\n",
      "Merging:  [3]\n",
      "Splitting... [6, 7]\n",
      "Splitting... [6]\n",
      "Merging:  [6]\n",
      "Splitting... [7]\n",
      "Merging:  [7]\n",
      "Merging:  [6, 7]\n",
      "Merging:  [3, 6, 7]\n",
      "Merging:  [2, 3, 6, 6, 7, 9]\n"
     ]
    },
    {
     "data": {
      "text/plain": [
       "[2, 3, 6, 6, 7, 9]"
      ]
     },
     "execution_count": 37,
     "metadata": {},
     "output_type": "execute_result"
    }
   ],
   "source": [
    "#Recursion\n",
    "#Step 1: Splitting everything up into its own group\n",
    "#Step 2: From left to right, we're merging two groups together\n",
    "#Step 3: While we merge, pull items into correct order in the merged list\n",
    "#Step 4: Repeat steps 2/3/4 until we just have one big list again\n",
    "\n",
    "def mergeSort(alist):\n",
    "    print(\"Splitting...\", alist)\n",
    "    \n",
    "    #Step 1\n",
    "    if len(alist) > 1:\n",
    "        mid = len(alist) // 2\n",
    "        lefthalf = alist[:mid]\n",
    "        righthalf = alist[mid:]\n",
    "        \n",
    "        #recursive call\n",
    "        mergeSort(lefthalf)\n",
    "        mergeSort(righthalf)\n",
    "        \n",
    "        #index pointers\n",
    "        i = 0 #Left pointer\n",
    "        j = 0 #Right pointer\n",
    "        k = 0 #main array pointer\n",
    "        \n",
    "        #Step 3: From left to right, we're merging two groups together\n",
    "        while i < len(lefthalf) and j < len(righthalf): #L/R, merging together\n",
    "            if lefthalf[i] < righthalf[j]:\n",
    "                alist[k] = lefthalf[i]\n",
    "                i = i+1\n",
    "            else:\n",
    "                alist[k] = righthalf[j]\n",
    "                j = j+1\n",
    "            k = k+1\n",
    "        \n",
    "        #Step 3: but no more comparisons to make \n",
    "        while i < len(lefthalf): #Left\n",
    "            alist[k] = lefthalf[i]\n",
    "            i = i+1\n",
    "            k = k+1\n",
    "            \n",
    "            \n",
    "        while j < len(righthalf): #Right\n",
    "            alist[k] = righthalf[j]\n",
    "            j = j+1\n",
    "            k = k+1\n",
    "    print(\"Merging: \", alist)\n",
    "    return alist\n",
    "\n",
    "mergeSort([6,9,2,3,6,7])"
   ]
  },
  {
   "cell_type": "markdown",
   "metadata": {},
   "source": [
    "# Binary Search\n",
    "\n",
    "The Binary Search algorithm works by finding the number in the middle of a given array and comparing it to the target. Given that the array is sorted\n",
    "\n",
    "* The worst case run time for this algorithm is `O(log(n))`"
   ]
  },
  {
   "cell_type": "code",
   "execution_count": 38,
   "metadata": {},
   "outputs": [
    {
     "data": {
      "text/plain": [
       "'The index of the 3 is 1. Yay.]'"
      ]
     },
     "execution_count": 38,
     "metadata": {},
     "output_type": "execute_result"
    }
   ],
   "source": [
    "#smaller == left\n",
    "#greater == right\n",
    "#input array MUST be sorted\n",
    "\n",
    "def binarySearch(array, target):\n",
    "    left = 0 #left pointer\n",
    "    right = len(array)-1 #right pointer, starting at end value of array\n",
    "    while left <= right: #while we still have values to look through\n",
    "        middle = (left + right)//2 #finds middle/half\n",
    "        potentialMatch = array[middle] #potential match is equal to value at middle of array\n",
    "        if target == potentialMatch:\n",
    "            return f'The index of the {target} is {middle}. Yay.]'\n",
    "        elif target < potentialMatch:\n",
    "            right = middle-1 #throws away the right half/half that we know isn't where target is\n",
    "        else:\n",
    "            left = middle+1\n",
    "    return f\"It's not here duh\"\n",
    "\n",
    "binarySearch([1,3,6,9,23,56],3)"
   ]
  },
  {
   "cell_type": "markdown",
   "metadata": {},
   "source": [
    "# Exercises"
   ]
  },
  {
   "cell_type": "markdown",
   "metadata": {},
   "source": [
    "### Exercise #1 <br>\n",
    "<p>Reverse the list below in-place using an in-place algorithm.<br>For extra credit: Reverse the strings at the same time.</p>"
   ]
  },
  {
   "cell_type": "code",
   "execution_count": 168,
   "metadata": {},
   "outputs": [
    {
     "name": "stdout",
     "output_type": "stream",
     "text": [
      "List before reversal:  ['this', 'is', 'a', 'sentence', '.']\n",
      "List reversed AND strings reversed:  ['.', 'ecnetnes', 'a', 'si', 'siht']\n"
     ]
    }
   ],
   "source": [
    "words = ['this' , 'is', 'a', 'sentence', '.']\n",
    "def reverse_words(a_list):\n",
    "    #first reverses the strings contained in the list, by iterating through each one\n",
    "    #and then assigning its index in the list/a_list to be reversed via slicing [::-1]\n",
    "    for word in a_list:\n",
    "        a_list[a_list.index(word)] = a_list[a_list.index(word)][::-1]\n",
    "    #redefines the result of slicing through normally, to be the same as slicing in reverse/reversing the list\n",
    "    a_list[::1] = a_list[::-1]\n",
    "    return a_list\n",
    "\n",
    "print(\"List before reversal: \", words)\n",
    "reverse_words(words)\n",
    "print(\"List reversed AND strings reversed: \", words)\n",
    "\n",
    "\n"
   ]
  },
  {
   "cell_type": "markdown",
   "metadata": {},
   "source": [
    "### Exercise #2 <br>\n",
    "<p>Create a function that counts how many distinct words are in the string below, then outputs a dictionary with the words as the key and the value as the amount of times that word appears in the string.<br>Should output:<br>{'a': 5,<br>\n",
    " 'abstract': 1,<br>\n",
    " 'an': 3,<br>\n",
    " 'array': 2, ... etc...</p>"
   ]
  },
  {
   "cell_type": "code",
   "execution_count": 161,
   "metadata": {},
   "outputs": [
    {
     "name": "stdout",
     "output_type": "stream",
     "text": [
      "{'a': 5, 'abstract': 1, 'an': 3, 'array': 2, 'associative': 1, 'be': 1, 'buckets': 1, 'can': 2, 'compute': 1, 'computing': 1, 'data': 2, 'desired': 1, 'found': 1, 'from': 1, 'function': 1, 'hash': 4, 'implements': 1, 'in': 1, 'index': 1, 'into': 1, 'is': 1, 'keys': 1, 'map': 2, 'of': 1, 'or': 1, 'slots': 1, 'structure': 2, 'table': 2, 'that': 1, 'the': 1, 'to': 2, 'type': 1, 'uses': 1, 'value': 1, 'values': 1, 'which': 2}\n"
     ]
    }
   ],
   "source": [
    "a_text = 'In computing, a hash table hash map is a data structure which implements an associative array abstract data type, a structure that can map keys to values. A hash table uses a hash function to compute an index into an array of buckets or slots from which the desired value can be found'\n",
    "\n",
    "def string_counter(a_string):\n",
    "    #gives empty dictionary to put results\n",
    "    word_count = {}\n",
    "    #replaces/remove commas and spaces since we are not counting those\n",
    "    a_string = a_string.replace(\",\", \"\")\n",
    "    a_string = a_string.replace(\".\", \"\")\n",
    "    #splits the string by spaces, then converts it to lower case since otherwise different keys would be generated for things like 'a' and 'A'\n",
    "    #also sorts/alphabetizes the string containing each separated word\n",
    "    #iterates through that resulting string\n",
    "    for word in sorted(a_string.lower().split()):\n",
    "        #if the word isn't in the 'word_count' dict yet, a new key is generated for it with count = 1, since it's the first occurrence\n",
    "        if word not in word_count:\n",
    "            word_count[word] = 1\n",
    "        else:\n",
    "        #if the word is already in dict, it just adds 1 to the current count/key value\n",
    "            word_count[word] += 1\n",
    "    return word_count\n",
    "\n",
    "print(string_counter(a_text))"
   ]
  },
  {
   "cell_type": "markdown",
   "metadata": {},
   "source": [
    "## Exercise #3\n",
    "\n",
    "Write a program to implement a Linear Search Algorithm. Also in a comment, write the Time Complexity of the following algorithm.\n",
    "\n",
    "#### Hint: Linear Searching will require searching a list for a given number. "
   ]
  },
  {
   "cell_type": "code",
   "execution_count": 155,
   "metadata": {},
   "outputs": [
    {
     "data": {
      "text/plain": [
       "'8 is found at index value: 7'"
      ]
     },
     "execution_count": 155,
     "metadata": {},
     "output_type": "execute_result"
    }
   ],
   "source": [
    "#inputs: some list, some value to find in the list\n",
    "#output: t he idnex which holds the value\n",
    "\n",
    "def linear_search(some_list, some_value):\n",
    "    for i in range(len(some_list)):\n",
    "        if some_list[i] == some_value:\n",
    "            return f\"{some_value} is found at index value: {i}\"\n",
    "linear_search([1,2,3,4,5,6,7,8], 8)\n",
    "\n",
    "#The time complexity for this would be O(n) as it scales linearly/directly with the number of items/list entries"
   ]
  }
 ],
 "metadata": {
  "kernelspec": {
   "display_name": "Python 3",
   "language": "python",
   "name": "python3"
  },
  "language_info": {
   "codemirror_mode": {
    "name": "ipython",
    "version": 3
   },
   "file_extension": ".py",
   "mimetype": "text/x-python",
   "name": "python",
   "nbconvert_exporter": "python",
   "pygments_lexer": "ipython3",
   "version": "3.8.5"
  }
 },
 "nbformat": 4,
 "nbformat_minor": 2
}
